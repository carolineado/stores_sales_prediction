{
 "cells": [
  {
   "cell_type": "markdown",
   "id": "1b111cdf",
   "metadata": {},
   "source": [
    "# 0.0 Configuration and Data Loading"
   ]
  },
  {
   "cell_type": "markdown",
   "id": "41d42cb8",
   "metadata": {},
   "source": [
    "## 0.1 Imports"
   ]
  },
  {
   "cell_type": "code",
   "execution_count": 37,
   "id": "8d46161a",
   "metadata": {
    "ExecuteTime": {
     "end_time": "2023-06-27T20:12:59.812762Z",
     "start_time": "2023-06-27T20:12:59.808274Z"
    }
   },
   "outputs": [],
   "source": [
    "import pandas as pd\n",
    "import math\n",
    "import inflection\n",
    "import numpy as np\n",
    "import seaborn as sns\n",
    "import datetime"
   ]
  },
  {
   "cell_type": "markdown",
   "id": "4e41bf05",
   "metadata": {},
   "source": [
    "## 0.2 Helper Functions"
   ]
  },
  {
   "cell_type": "code",
   "execution_count": 38,
   "id": "8379ac8c",
   "metadata": {
    "ExecuteTime": {
     "end_time": "2023-06-27T20:13:01.023036Z",
     "start_time": "2023-06-27T20:13:01.014175Z"
    }
   },
   "outputs": [],
   "source": [
    "def jupyter_settings():\n",
    "    \n",
    "    %matplotlib inline\n",
    "    \n",
    "    plt.style.use( 'bmh' )\n",
    "    plt.rcParams['figure.figsize'] = [25, 12]\n",
    "    plt.rcParams['font.size'] = 24\n",
    "    display( HTML( '<style>.container { width:100% !important; }</style>') )\n",
    "    pd.options.display.max_columns = None\n",
    "    pd.options.display.max_rows = None\n",
    "    pd.set_option( 'display.expand_frame_repr', False )\n",
    "    sns.set()"
   ]
  },
  {
   "cell_type": "code",
   "execution_count": 39,
   "id": "283007b9",
   "metadata": {
    "ExecuteTime": {
     "end_time": "2023-06-27T20:13:01.505773Z",
     "start_time": "2023-06-27T20:13:01.485206Z"
    }
   },
   "outputs": [
    {
     "data": {
      "text/html": [
       "<style>.container { width:100% !important; }</style>"
      ],
      "text/plain": [
       "<IPython.core.display.HTML object>"
      ]
     },
     "metadata": {},
     "output_type": "display_data"
    }
   ],
   "source": [
    "jupyter_settings()"
   ]
  },
  {
   "cell_type": "markdown",
   "id": "7561fc4f",
   "metadata": {},
   "source": [
    "## 0.3 Loading Data"
   ]
  },
  {
   "cell_type": "code",
   "execution_count": 40,
   "id": "7a75aa76",
   "metadata": {
    "ExecuteTime": {
     "end_time": "2023-06-27T20:13:03.847328Z",
     "start_time": "2023-06-27T20:13:03.208979Z"
    }
   },
   "outputs": [],
   "source": [
    "df_sales_raw = pd.read_csv( 'data/train.csv', low_memory = False )\n",
    "df_store_raw = pd.read_csv( 'data/store.csv', low_memory = False )\n",
    "\n",
    "df_raw = pd.merge(df_sales_raw, df_store_raw, 'left', 'Store')"
   ]
  },
  {
   "cell_type": "markdown",
   "id": "775ecc14",
   "metadata": {},
   "source": [
    "# 1.0 Data Description"
   ]
  },
  {
   "cell_type": "markdown",
   "id": "e40d0fa9",
   "metadata": {},
   "source": [
    "## 1.1 Rename Columns"
   ]
  },
  {
   "cell_type": "code",
   "execution_count": 41,
   "id": "ef7ad380",
   "metadata": {
    "ExecuteTime": {
     "end_time": "2023-06-27T20:13:04.893004Z",
     "start_time": "2023-06-27T20:13:04.873765Z"
    }
   },
   "outputs": [
    {
     "data": {
      "text/plain": [
       "Index(['Store', 'DayOfWeek', 'Date', 'Sales', 'Customers', 'Open', 'Promo',\n",
       "       'StateHoliday', 'SchoolHoliday', 'StoreType', 'Assortment',\n",
       "       'CompetitionDistance', 'CompetitionOpenSinceMonth',\n",
       "       'CompetitionOpenSinceYear', 'Promo2', 'Promo2SinceWeek',\n",
       "       'Promo2SinceYear', 'PromoInterval'],\n",
       "      dtype='object')"
      ]
     },
     "execution_count": 41,
     "metadata": {},
     "output_type": "execute_result"
    }
   ],
   "source": [
    "df1.columns"
   ]
  },
  {
   "cell_type": "code",
   "execution_count": 42,
   "id": "d8516116",
   "metadata": {
    "ExecuteTime": {
     "end_time": "2023-06-27T20:13:06.052314Z",
     "start_time": "2023-06-27T20:13:05.901412Z"
    }
   },
   "outputs": [],
   "source": [
    "df1 = df_raw.copy()"
   ]
  },
  {
   "cell_type": "code",
   "execution_count": 43,
   "id": "964d9404",
   "metadata": {
    "ExecuteTime": {
     "end_time": "2023-06-27T20:13:06.479966Z",
     "start_time": "2023-06-27T20:13:06.467977Z"
    }
   },
   "outputs": [],
   "source": [
    "old_cols = ['Store', 'DayOfWeek', 'Date', 'Sales', 'Customers', 'Open', 'Promo', 'StateHoliday', 'SchoolHoliday', \n",
    "            'StoreType', 'Assortment', 'CompetitionDistance', 'CompetitionOpenSinceMonth',\n",
    "            'CompetitionOpenSinceYear', 'Promo2', 'Promo2SinceWeek', 'Promo2SinceYear', 'PromoInterval']\n",
    "\n",
    "snakecase = lambda x: inflection.underscore( x )\n",
    "\n",
    "new_cols = list( map( snakecase, old_cols ) )"
   ]
  },
  {
   "cell_type": "code",
   "execution_count": 44,
   "id": "1d86c015",
   "metadata": {
    "ExecuteTime": {
     "end_time": "2023-06-27T20:13:07.315175Z",
     "start_time": "2023-06-27T20:13:07.310484Z"
    }
   },
   "outputs": [],
   "source": [
    "df1.columns = new_cols"
   ]
  },
  {
   "cell_type": "code",
   "execution_count": 48,
   "id": "b8f6b56c",
   "metadata": {
    "ExecuteTime": {
     "end_time": "2023-06-27T20:13:26.781235Z",
     "start_time": "2023-06-27T20:13:26.774503Z"
    }
   },
   "outputs": [
    {
     "data": {
      "text/plain": [
       "Index(['store', 'day_of_week', 'date', 'sales', 'customers', 'open', 'promo',\n",
       "       'state_holiday', 'school_holiday', 'store_type', 'assortment',\n",
       "       'competition_distance', 'competition_open_since_month',\n",
       "       'competition_open_since_year', 'promo2', 'promo2_since_week',\n",
       "       'promo2_since_year', 'promo_interval'],\n",
       "      dtype='object')"
      ]
     },
     "execution_count": 48,
     "metadata": {},
     "output_type": "execute_result"
    }
   ],
   "source": [
    "df1.columns"
   ]
  },
  {
   "cell_type": "markdown",
   "id": "65b4c8f5",
   "metadata": {},
   "source": [
    "## 1.2 Data Dimentions"
   ]
  },
  {
   "cell_type": "code",
   "execution_count": 45,
   "id": "e2370507",
   "metadata": {
    "ExecuteTime": {
     "end_time": "2023-06-27T20:13:09.192809Z",
     "start_time": "2023-06-27T20:13:09.180570Z"
    }
   },
   "outputs": [
    {
     "name": "stdout",
     "output_type": "stream",
     "text": [
      "Name of rows: 1017209\n",
      "Name of cols: 18\n"
     ]
    }
   ],
   "source": [
    "print( 'Name of rows: {}'.format( df1.shape[0] ) )\n",
    "print( 'Name of cols: {}'.format( df1.shape[1] ) )"
   ]
  },
  {
   "cell_type": "markdown",
   "id": "952f8a05",
   "metadata": {},
   "source": [
    "## 1.3 Data Types"
   ]
  },
  {
   "cell_type": "code",
   "execution_count": 46,
   "id": "01b00cd9",
   "metadata": {
    "ExecuteTime": {
     "end_time": "2023-06-27T20:13:10.905302Z",
     "start_time": "2023-06-27T20:13:10.816229Z"
    }
   },
   "outputs": [
    {
     "data": {
      "text/plain": [
       "store                                    int64\n",
       "day_of_week                              int64\n",
       "date                            datetime64[ns]\n",
       "sales                                    int64\n",
       "customers                                int64\n",
       "open                                     int64\n",
       "promo                                    int64\n",
       "state_holiday                           object\n",
       "school_holiday                           int64\n",
       "store_type                              object\n",
       "assortment                              object\n",
       "competition_distance                   float64\n",
       "competition_open_since_month           float64\n",
       "competition_open_since_year            float64\n",
       "promo2                                   int64\n",
       "promo2_since_week                      float64\n",
       "promo2_since_year                      float64\n",
       "promo_interval                          object\n",
       "dtype: object"
      ]
     },
     "execution_count": 46,
     "metadata": {},
     "output_type": "execute_result"
    }
   ],
   "source": [
    "df1['date'] = pd.to_datetime( df1['date'] )\n",
    "df1.dtypes"
   ]
  },
  {
   "cell_type": "markdown",
   "id": "2a55194c",
   "metadata": {},
   "source": [
    "## 1.4 Check NA"
   ]
  },
  {
   "cell_type": "code",
   "execution_count": 47,
   "id": "b1c55dae",
   "metadata": {
    "ExecuteTime": {
     "end_time": "2023-06-27T20:13:12.400381Z",
     "start_time": "2023-06-27T20:13:12.239290Z"
    }
   },
   "outputs": [
    {
     "data": {
      "text/plain": [
       "store                                0\n",
       "day_of_week                          0\n",
       "date                                 0\n",
       "sales                                0\n",
       "customers                            0\n",
       "open                                 0\n",
       "promo                                0\n",
       "state_holiday                        0\n",
       "school_holiday                       0\n",
       "store_type                           0\n",
       "assortment                           0\n",
       "competition_distance              2642\n",
       "competition_open_since_month    323348\n",
       "competition_open_since_year     323348\n",
       "promo2                               0\n",
       "promo2_since_week               508031\n",
       "promo2_since_year               508031\n",
       "promo_interval                  508031\n",
       "dtype: int64"
      ]
     },
     "execution_count": 47,
     "metadata": {},
     "output_type": "execute_result"
    }
   ],
   "source": [
    "df1.isna().sum()"
   ]
  },
  {
   "cell_type": "code",
   "execution_count": null,
   "id": "d0a0ed8a",
   "metadata": {},
   "outputs": [],
   "source": []
  }
 ],
 "metadata": {
  "kernelspec": {
   "display_name": "Python 3 (ipykernel)",
   "language": "python",
   "name": "python3"
  },
  "language_info": {
   "codemirror_mode": {
    "name": "ipython",
    "version": 3
   },
   "file_extension": ".py",
   "mimetype": "text/x-python",
   "name": "python",
   "nbconvert_exporter": "python",
   "pygments_lexer": "ipython3",
   "version": "3.10.6"
  }
 },
 "nbformat": 4,
 "nbformat_minor": 5
}
