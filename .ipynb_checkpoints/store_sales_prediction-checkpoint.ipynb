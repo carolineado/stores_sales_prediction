{
 "cells": [
  {
   "cell_type": "markdown",
   "id": "1b111cdf",
   "metadata": {},
   "source": [
    "# 0.0 Configuration and Data Loading"
   ]
  },
  {
   "cell_type": "markdown",
   "id": "41d42cb8",
   "metadata": {
    "heading_collapsed": true
   },
   "source": [
    "## 0.1 Imports"
   ]
  },
  {
   "cell_type": "code",
   "execution_count": null,
   "id": "8d46161a",
   "metadata": {
    "ExecuteTime": {
     "start_time": "2024-02-01T17:59:09.639Z"
    },
    "hidden": true
   },
   "outputs": [],
   "source": [
    "import pandas as pd\n",
    "import math\n",
    "import inflection\n",
    "import numpy as np\n",
    "import seaborn as sns\n",
    "import datetime\n",
    "from tabulate import tabulate\n",
    "\n",
    "from scipy                             import stats as ss\n",
    "from matplotlib                        import pyplot as plt\n",
    "from matplotlib.gridspec               import GridSpec\n",
    "from IPython.display                   import Image\n",
    "from IPython.core.display              import HTML\n",
    "from boruta                            import BorutaPy\n",
    "\n",
    "from sklearn.preprocessing             import RobustScaler, MinMaxScaler, LabelEncoder\n",
    "from sklearn.ensemble                  import RandomForestRegressor"
   ]
  },
  {
   "cell_type": "markdown",
   "id": "4e41bf05",
   "metadata": {},
   "source": [
    "## 0.2 Helper Functions"
   ]
  },
  {
   "cell_type": "code",
   "execution_count": 153,
   "id": "8379ac8c",
   "metadata": {
    "ExecuteTime": {
     "end_time": "2024-02-01T17:59:09.668096Z",
     "start_time": "2024-02-01T17:59:09.656163Z"
    }
   },
   "outputs": [],
   "source": [
    "def jupyter_settings():\n",
    "    \n",
    "    %matplotlib inline\n",
    "    \n",
    "    plt.style.use( 'bmh' )\n",
    "    plt.rcParams['figure.figsize'] = [25, 12]\n",
    "    plt.rcParams['font.size'] = 24\n",
    "    display( HTML( '<style>.container { width:100% !important; }</style>') )\n",
    "    pd.options.display.max_columns = None\n",
    "    pd.options.display.max_rows = None\n",
    "    pd.set_option( 'display.expand_frame_repr', False )\n",
    "    sns.set()"
   ]
  },
  {
   "cell_type": "code",
   "execution_count": 154,
   "id": "584bd5ce",
   "metadata": {
    "ExecuteTime": {
     "end_time": "2024-02-01T17:59:09.676517Z",
     "start_time": "2024-02-01T17:59:09.670351Z"
    }
   },
   "outputs": [],
   "source": [
    "def cramer_v(x, y):\n",
    "    cm = pd.crosstab(x, y).values\n",
    "    n = cm.sum()\n",
    "    r, k = cm.shape\n",
    "\n",
    "    chi2 = ss.chi2_contingency(cm)[0]\n",
    "    chi2corr = max(0, chi2 - (k-1)*(r-1)/(n-1))\n",
    "\n",
    "    kcorr = k - (k-1)**2/(n-1)\n",
    "    rcorr = r - (r-1)**2/(n-1)\n",
    "\n",
    "    v = np.sqrt(chi2corr/n / (min(kcorr-1, rcorr-1)))\n",
    "\n",
    "    return v"
   ]
  },
  {
   "cell_type": "code",
   "execution_count": null,
   "id": "283007b9",
   "metadata": {
    "ExecuteTime": {
     "start_time": "2024-02-01T17:59:09.652Z"
    }
   },
   "outputs": [],
   "source": [
    "jupyter_settings()"
   ]
  },
  {
   "cell_type": "markdown",
   "id": "7561fc4f",
   "metadata": {},
   "source": [
    "## 0.3 Loading Data"
   ]
  },
  {
   "cell_type": "code",
   "execution_count": null,
   "id": "7a75aa76",
   "metadata": {
    "ExecuteTime": {
     "start_time": "2024-02-01T17:59:09.654Z"
    }
   },
   "outputs": [],
   "source": [
    "df_sales_raw = pd.read_csv( 'data/train.csv', low_memory = False )\n",
    "df_store_raw = pd.read_csv( 'data/store.csv', low_memory = False )\n",
    "\n",
    "df_raw = pd.merge(df_sales_raw, df_store_raw, 'left', 'Store')"
   ]
  },
  {
   "cell_type": "markdown",
   "id": "775ecc14",
   "metadata": {},
   "source": [
    "# 1.0 Data Description"
   ]
  },
  {
   "cell_type": "markdown",
   "id": "e40d0fa9",
   "metadata": {},
   "source": [
    "## 1.1 Rename Columns"
   ]
  },
  {
   "cell_type": "code",
   "execution_count": null,
   "id": "d8516116",
   "metadata": {
    "ExecuteTime": {
     "start_time": "2024-02-01T17:59:09.658Z"
    }
   },
   "outputs": [],
   "source": [
    "df1 = df_raw.copy()"
   ]
  },
  {
   "cell_type": "code",
   "execution_count": null,
   "id": "ef7ad380",
   "metadata": {
    "ExecuteTime": {
     "start_time": "2024-02-01T17:59:09.660Z"
    }
   },
   "outputs": [],
   "source": [
    "df1.columns"
   ]
  },
  {
   "cell_type": "code",
   "execution_count": null,
   "id": "964d9404",
   "metadata": {
    "ExecuteTime": {
     "start_time": "2024-02-01T17:59:09.662Z"
    }
   },
   "outputs": [],
   "source": [
    "old_cols = ['Store', 'DayOfWeek', 'Date', 'Sales', 'Customers', 'Open', 'Promo', 'StateHoliday', 'SchoolHoliday', \n",
    "            'StoreType', 'Assortment', 'CompetitionDistance', 'CompetitionOpenSinceMonth',\n",
    "            'CompetitionOpenSinceYear', 'Promo2', 'Promo2SinceWeek', 'Promo2SinceYear', 'PromoInterval']\n",
    "\n",
    "snakecase = lambda x: inflection.underscore( x )\n",
    "\n",
    "new_cols = list( map( snakecase, old_cols ) )"
   ]
  },
  {
   "cell_type": "code",
   "execution_count": null,
   "id": "1d86c015",
   "metadata": {
    "ExecuteTime": {
     "start_time": "2024-02-01T17:59:09.663Z"
    }
   },
   "outputs": [],
   "source": [
    "df1.columns = new_cols"
   ]
  },
  {
   "cell_type": "code",
   "execution_count": null,
   "id": "b8f6b56c",
   "metadata": {
    "ExecuteTime": {
     "start_time": "2024-02-01T17:59:09.663Z"
    }
   },
   "outputs": [],
   "source": [
    "df1.columns"
   ]
  },
  {
   "cell_type": "markdown",
   "id": "65b4c8f5",
   "metadata": {},
   "source": [
    "## 1.2 Data Dimentions"
   ]
  },
  {
   "cell_type": "code",
   "execution_count": null,
   "id": "e2370507",
   "metadata": {
    "ExecuteTime": {
     "start_time": "2024-02-01T17:59:09.665Z"
    }
   },
   "outputs": [],
   "source": [
    "print( 'Name of rows: {}'.format( df1.shape[0] ) )\n",
    "print( 'Name of cols: {}'.format( df1.shape[1] ) )"
   ]
  },
  {
   "cell_type": "markdown",
   "id": "952f8a05",
   "metadata": {},
   "source": [
    "## 1.3 Data Types"
   ]
  },
  {
   "cell_type": "code",
   "execution_count": null,
   "id": "01b00cd9",
   "metadata": {
    "ExecuteTime": {
     "start_time": "2024-02-01T17:59:09.667Z"
    }
   },
   "outputs": [],
   "source": [
    "df1['date'] = pd.to_datetime( df1['date'] )\n",
    "df1.dtypes"
   ]
  },
  {
   "cell_type": "markdown",
   "id": "2a55194c",
   "metadata": {},
   "source": [
    "## 1.4 Check NA"
   ]
  },
  {
   "cell_type": "code",
   "execution_count": null,
   "id": "b1c55dae",
   "metadata": {
    "ExecuteTime": {
     "start_time": "2024-02-01T17:59:09.669Z"
    }
   },
   "outputs": [],
   "source": [
    "df1.isna().sum()"
   ]
  },
  {
   "cell_type": "markdown",
   "id": "0c13dae3",
   "metadata": {},
   "source": [
    "## 1.5 Fillout NA"
   ]
  },
  {
   "cell_type": "markdown",
   "id": "93500049",
   "metadata": {
    "ExecuteTime": {
     "end_time": "2023-07-02T17:34:21.717827Z",
     "start_time": "2023-07-02T17:34:21.699252Z"
    }
   },
   "source": [
    "Quando não há informação de competidor mais próximo (NA), considerei a distância como 200000 (quase 3x o valor da distância do competidor mais longe)."
   ]
  },
  {
   "cell_type": "code",
   "execution_count": null,
   "id": "2a979eb6",
   "metadata": {
    "ExecuteTime": {
     "start_time": "2024-02-01T17:59:09.672Z"
    }
   },
   "outputs": [],
   "source": [
    "df1['competition_distance'].max()"
   ]
  },
  {
   "cell_type": "code",
   "execution_count": null,
   "id": "b4f315dd",
   "metadata": {
    "ExecuteTime": {
     "start_time": "2024-02-01T17:59:09.673Z"
    }
   },
   "outputs": [],
   "source": [
    "df1['competition_distance'] = df1['competition_distance'].apply( lambda x: 200000.0 if math.isnan( x ) else x )"
   ]
  },
  {
   "cell_type": "markdown",
   "id": "16c002d5",
   "metadata": {},
   "source": [
    "Quando não há informação sobre:\n",
    "   - há quantos meses há um competidor mais próximo\n",
    "   - há quantos anos há um competidor mais próximo\n",
    "   - a semana do ano em que a loja começou a participar da promoção 'promo2'\n",
    "   - o ano em que a loja começou a participar da promoção 'promo2'\n",
    "\n",
    "substituí pela informação baseada na data de atualização da base."
   ]
  },
  {
   "cell_type": "code",
   "execution_count": null,
   "id": "d11bfd73",
   "metadata": {
    "ExecuteTime": {
     "start_time": "2024-02-01T17:59:09.675Z"
    }
   },
   "outputs": [],
   "source": [
    "df1['competition_open_since_month'] = df1.apply( lambda x: x['date'].month if math.isnan( x['competition_open_since_month'] ) else x['competition_open_since_month'], axis=1)\n",
    "df1['competition_open_since_year'] = df1.apply( lambda x: x['date'].year if math.isnan( x['competition_open_since_year'] ) else x['competition_open_since_year'], axis=1)"
   ]
  },
  {
   "cell_type": "code",
   "execution_count": null,
   "id": "2b3b0d8d",
   "metadata": {
    "ExecuteTime": {
     "start_time": "2024-02-01T17:59:09.677Z"
    }
   },
   "outputs": [],
   "source": [
    "df1['promo2_since_week'] = df1.apply( lambda x: x['date'].month if math.isnan( x['promo2_since_week'] ) else x['promo2_since_week'], axis = 1 )\n",
    "df1['promo2_since_year'] = df1.apply( lambda x: x['date'].year if math.isnan( x['promo2_since_year'] ) else x['promo2_since_year'], axis = 1 )"
   ]
  },
  {
   "cell_type": "code",
   "execution_count": null,
   "id": "8529b5ef",
   "metadata": {
    "ExecuteTime": {
     "start_time": "2024-02-01T17:59:09.678Z"
    }
   },
   "outputs": [],
   "source": [
    "month_map = { 1:'Jan', 2:'Feb', 3:'Mar', 4:'Apr', 5:'May', 6:'Jun', 7:'Jul', 8:'Aug', 9:'Sep', 10:'Oct', 11:'Nov', 12:'Dec' }\n",
    "\n",
    "df1['promo_interval'].fillna(0, inplace = True)\n",
    "\n",
    "df1['month_map'] = df1['date'].dt.month.map( month_map )\n",
    "df1['is_promo'] = df1[['promo_interval', 'month_map']].apply(lambda x: 0 if x['promo_interval'] == 0 else 1 if x['month_map'] in x['promo_interval'].split(',') else 0, axis = 1)"
   ]
  },
  {
   "cell_type": "code",
   "execution_count": null,
   "id": "8f132f4c",
   "metadata": {
    "ExecuteTime": {
     "start_time": "2024-02-01T17:59:09.679Z"
    }
   },
   "outputs": [],
   "source": [
    "df1.sample(5).T"
   ]
  },
  {
   "cell_type": "code",
   "execution_count": null,
   "id": "711e7e1e",
   "metadata": {
    "ExecuteTime": {
     "start_time": "2024-02-01T17:59:09.679Z"
    }
   },
   "outputs": [],
   "source": [
    "df1.isna().sum()"
   ]
  },
  {
   "cell_type": "markdown",
   "id": "1c5a7077",
   "metadata": {},
   "source": [
    "## 1.6 Change Types"
   ]
  },
  {
   "cell_type": "code",
   "execution_count": null,
   "id": "1c6d383b",
   "metadata": {
    "ExecuteTime": {
     "start_time": "2024-02-01T17:59:09.681Z"
    }
   },
   "outputs": [],
   "source": [
    "df1.dtypes"
   ]
  },
  {
   "cell_type": "code",
   "execution_count": null,
   "id": "64c6bbb4",
   "metadata": {
    "ExecuteTime": {
     "start_time": "2024-02-01T17:59:09.682Z"
    }
   },
   "outputs": [],
   "source": [
    "df1['competition_open_since_month'] = df1['competition_open_since_month'].astype(int)\n",
    "df1['competition_open_since_year'] = df1['competition_open_since_year'].astype(int)\n",
    "\n",
    "df1['promo2_since_week'] = df1['promo2_since_week'].astype(int)\n",
    "df1['promo2_since_year'] = df1['promo2_since_year'].astype(int)"
   ]
  },
  {
   "cell_type": "code",
   "execution_count": null,
   "id": "a1404342",
   "metadata": {
    "ExecuteTime": {
     "start_time": "2024-02-01T17:59:09.682Z"
    }
   },
   "outputs": [],
   "source": [
    "df1.dtypes"
   ]
  },
  {
   "cell_type": "markdown",
   "id": "3611d919",
   "metadata": {},
   "source": [
    "## 1.7 Descriptive Statistical\n"
   ]
  },
  {
   "cell_type": "code",
   "execution_count": null,
   "id": "f2ff7213",
   "metadata": {
    "ExecuteTime": {
     "start_time": "2024-02-01T17:59:09.684Z"
    }
   },
   "outputs": [],
   "source": [
    "num_attributes = df1.select_dtypes( include=['int64', 'float64'] )\n",
    "cat_attributes = df1.select_dtypes( exclude=['int64', 'float64', 'datetime64[ns]'] )"
   ]
  },
  {
   "cell_type": "markdown",
   "id": "90d63469",
   "metadata": {},
   "source": [
    "### 1.7.1 Numerical Attributes"
   ]
  },
  {
   "cell_type": "code",
   "execution_count": null,
   "id": "48992360",
   "metadata": {
    "ExecuteTime": {
     "start_time": "2024-02-01T17:59:09.685Z"
    }
   },
   "outputs": [],
   "source": [
    "# central tendency - mean, median\n",
    "ct1 = pd.DataFrame( num_attributes.apply( np.mean ) ).T\n",
    "ct2 = pd.DataFrame( num_attributes.apply( np.median ) ).T\n",
    "\n",
    "# dispersion - std, min, max, range, skew, kurtosis\n",
    "d1 = pd.DataFrame( num_attributes.apply( np.std ) ).T\n",
    "d2 = pd.DataFrame( num_attributes.apply( min ) ).T\n",
    "d3 = pd.DataFrame( num_attributes.apply( max ) ).T\n",
    "d4 = pd.DataFrame( num_attributes.apply( lambda x: x.max() - x.min() ) ).T\n",
    "d5 = pd.DataFrame( num_attributes.apply( lambda x: x.skew() ) ).T\n",
    "d6 = pd.DataFrame( num_attributes.apply( lambda x: x.kurtosis() ) ).T\n",
    "\n",
    "# concatenate\n",
    "m = pd.concat( [d2, d3, d4, ct1, ct2, d1, d5, d6] ).T.reset_index()\n",
    "m.columns = ['attributes', 'min', 'max', 'range', 'mean', 'median', 'std', 'skew', 'kurtosis']\n",
    "m"
   ]
  },
  {
   "cell_type": "markdown",
   "id": "61e4e303",
   "metadata": {},
   "source": [
    "###  1.7.2 Categorical Attributes\n"
   ]
  },
  {
   "cell_type": "code",
   "execution_count": null,
   "id": "cd7aedc5",
   "metadata": {
    "ExecuteTime": {
     "start_time": "2024-02-01T17:59:09.686Z"
    }
   },
   "outputs": [],
   "source": [
    "cat_attributes.apply( lambda x: x.unique().shape[0])"
   ]
  },
  {
   "cell_type": "code",
   "execution_count": null,
   "id": "d1a70865",
   "metadata": {
    "ExecuteTime": {
     "start_time": "2024-02-01T17:59:09.686Z"
    }
   },
   "outputs": [],
   "source": [
    "aux1 = df1[(df1['state_holiday'] != '0' ) & (df1['sales'] > 0)]\n",
    "\n",
    "plt.subplot(1, 3, 1)\n",
    "sns.boxplot(x = 'state_holiday', y = 'sales', data = aux1 )\n",
    "\n",
    "plt.subplot(1, 3, 2)\n",
    "sns.boxplot(x = 'store_type', y = 'sales', data = aux1 )\n",
    "\n",
    "plt.subplot(1, 3, 3)\n",
    "sns.boxplot(x = 'assortment', y = 'sales', data = aux1 )"
   ]
  },
  {
   "cell_type": "markdown",
   "id": "d091583e",
   "metadata": {
    "heading_collapsed": true
   },
   "source": [
    "# 2.0 Feature Engineering\n"
   ]
  },
  {
   "cell_type": "markdown",
   "id": "e717cde7",
   "metadata": {
    "hidden": true
   },
   "source": [
    "## 2.1 Hypthesis Mindmap\n"
   ]
  },
  {
   "cell_type": "code",
   "execution_count": null,
   "id": "acec37f5",
   "metadata": {
    "ExecuteTime": {
     "start_time": "2024-02-01T17:59:09.688Z"
    },
    "hidden": true
   },
   "outputs": [],
   "source": [
    "df2 = df1.copy()"
   ]
  },
  {
   "cell_type": "code",
   "execution_count": null,
   "id": "2979fc55",
   "metadata": {
    "ExecuteTime": {
     "start_time": "2024-02-01T17:59:09.689Z"
    },
    "hidden": true
   },
   "outputs": [],
   "source": [
    "Image('/home/carol/repos/dsemproducao/img/MindMapHypothesis.png')"
   ]
  },
  {
   "cell_type": "markdown",
   "id": "cae93008",
   "metadata": {
    "hidden": true
   },
   "source": [
    "## 2.2 Hypothesis creation\n"
   ]
  },
  {
   "cell_type": "markdown",
   "id": "76286780",
   "metadata": {
    "hidden": true
   },
   "source": [
    "### 2.2.1 Sales Hypothesis"
   ]
  },
  {
   "cell_type": "markdown",
   "id": "325ed649",
   "metadata": {
    "hidden": true
   },
   "source": [
    "1. Lojas com maior quadro de funcionários deveriam vender mais.\n",
    "\n",
    "2. Lojas com maior estoque deveriam vender mais.\n",
    "\n",
    "3. Lojas com maior porte deveriam vender mais.\n",
    "\n",
    "5. Lojas com maior sortemente deveriam vender mais.\n",
    "\n",
    "5. Lojas com competidores mais próximos deveriam vender menos.\n",
    "\n",
    "6. Lojas com competidores à mais tempo deveriam vender mais.\n"
   ]
  },
  {
   "cell_type": "markdown",
   "id": "712df92b",
   "metadata": {
    "hidden": true
   },
   "source": [
    "### 2.2.2 Product's Hypothesis"
   ]
  },
  {
   "cell_type": "markdown",
   "id": "617d5306",
   "metadata": {
    "hidden": true
   },
   "source": [
    "\n",
    "\n",
    "1. Lojas que investem mais em Marketing deveriam vender mais.\n",
    "\n",
    "2. Lojas que expõem mais os produtos nas vitrines deveriam vender mais.\n",
    "\n",
    "3. Lojas que têm preços menores nos produtos deveriam vender mais.\n",
    "\n",
    "4. Lojas com promoções mais agressivas (descontos maiores), deveriam vender mais.\n",
    "\n",
    "5. Lojas com promoções ativas por mais tempo deveriam vender mais.\n",
    "\n",
    "6. Lojas com mais promoções consecutivas deveriam vender mais.\n"
   ]
  },
  {
   "cell_type": "markdown",
   "id": "3f65ccca",
   "metadata": {
    "hidden": true
   },
   "source": [
    "### 2.2.3 Time's Hypothesis"
   ]
  },
  {
   "cell_type": "markdown",
   "id": "ad5e73f4",
   "metadata": {
    "hidden": true
   },
   "source": [
    "\n",
    "\n",
    "1. Lojas abertas durante o feriado de Natal deveriam vender mais.\n",
    "\n",
    "2. Lojas deveriam vender mais ao longo dos anos.\n",
    "\n",
    "3. Lojas deveriam vender mais no segundo sementre do ano.\n",
    "\n",
    "4. Lojas deveriam vender mais depois do dia 10 de cada mês.\n",
    "\n",
    "5. Lojas deveriam vender menos aos finais de semana.\n",
    "\n",
    "6. Lojas deveriam vender menos durante os feriados escolares.\n"
   ]
  },
  {
   "cell_type": "markdown",
   "id": "ac6fe3f9",
   "metadata": {
    "hidden": true
   },
   "source": [
    "### 2.2.4 Final List"
   ]
  },
  {
   "cell_type": "markdown",
   "id": "caeafbec",
   "metadata": {
    "hidden": true
   },
   "source": [
    "\n",
    "\n",
    "1. Lojas com maior sortimento deveriam vender mais.\n",
    "\n",
    "2. Lojas com competidores mais próximos deveriam vender menos.\n",
    "\n",
    "3. Lojas com competidores à mais tempo deveriam vender mais.\n",
    "\n",
    "4. Lojas com promoções ativas por mais tempo deveriam vender mais.\n",
    "\n",
    "5. Lojas com mais promoções consecutivas deveriam vender mais.\n",
    "\n",
    "6. Lojas abertas durante o feriado de Natal deveriam vender mais.\n",
    "\n",
    "7. Lojas deveriam vender mais ao longo dos anos.\n",
    "\n",
    "8. Lojas deveriam vender mais no segundo sementre do ano.\n",
    "\n",
    "9. Lojas deveriam vender mais depois do dia 10 de cada mês.\n",
    "\n",
    "10. Lojas deveriam vender menos aos finais de semana.\n",
    "\n",
    "11. Lojas deveriam vender menos durante os feriados escolares.\n"
   ]
  },
  {
   "cell_type": "markdown",
   "id": "af8ff930",
   "metadata": {
    "hidden": true
   },
   "source": [
    "## 2.4 Feature Engineering\n"
   ]
  },
  {
   "cell_type": "code",
   "execution_count": null,
   "id": "a7d0dd44",
   "metadata": {
    "ExecuteTime": {
     "start_time": "2024-02-01T17:59:09.693Z"
    },
    "hidden": true
   },
   "outputs": [],
   "source": [
    "# year\n",
    "df2['year'] = df2['date'].dt.year\n",
    "\n",
    "# month\n",
    "df2['month'] = df2['date'].dt.month\n",
    "\n",
    "# day\n",
    "df2['day'] = df2['date'].dt.day\n",
    "\n",
    "# week of year\n",
    "df2['week_of_year'] = df2['date'].dt.isocalendar().week\n",
    "\n",
    "# year week\n",
    "df2['year_week'] = df2['date'].dt.strftime('%Y-%m')\n",
    "\n",
    "# competition since \n",
    "df2['competition_since'] = df2.apply( lambda x: datetime.datetime(year=x['competition_open_since_year'],\n",
    "                                       month=x['competition_open_since_month'],day=1), axis=1)\n",
    "df2['competition_time_month'] = ( (df2['date'] - df2['competition_since'])/30 ).apply(lambda x: x.days).astype( int )\n",
    "\n",
    "# promo since\n",
    "df2['promo_since'] = df2['promo2_since_year'].astype( str ) + '-' + df2['promo2_since_week'].astype( str )\n",
    "df2['promo_since'] = df2['promo_since'].apply( lambda x: datetime.datetime.strptime(x+'-1', '%Y-%W-%w') \n",
    "                                               - datetime.timedelta(days=7) )\n",
    "df2['promo_time_week'] = (( df2['date'] - df2['promo_since'] )/7).apply(lambda x: x.days).astype(int)\n",
    "\n",
    "# assortment\n",
    "df2['assortment'] = df2['assortment'].apply(lambda x: 'basic' if x == 'a' else 'extra' if x == 'b' else 'extended')\n",
    "\n",
    "# state holiday\n",
    "df2['state_holiday'] = df2['state_holiday'].apply(lambda x: 'public_holiday' if x == 'a' else 'easter_holiday' if x == 'b' else 'chrismas' if x == 'c' else 'regular_date')\n"
   ]
  },
  {
   "cell_type": "code",
   "execution_count": null,
   "id": "4e90d309",
   "metadata": {
    "ExecuteTime": {
     "start_time": "2024-02-01T17:59:09.694Z"
    },
    "hidden": true
   },
   "outputs": [],
   "source": [
    "df2.head(5).T"
   ]
  },
  {
   "cell_type": "markdown",
   "id": "c5529ea4",
   "metadata": {
    "heading_collapsed": true
   },
   "source": [
    "# 3.0 Filtering variables\n"
   ]
  },
  {
   "cell_type": "code",
   "execution_count": null,
   "id": "c4eb0a59",
   "metadata": {
    "ExecuteTime": {
     "start_time": "2024-02-01T17:59:09.695Z"
    },
    "hidden": true
   },
   "outputs": [],
   "source": [
    "df3 = df2.copy()"
   ]
  },
  {
   "cell_type": "code",
   "execution_count": null,
   "id": "183e4604",
   "metadata": {
    "ExecuteTime": {
     "start_time": "2024-02-01T17:59:09.696Z"
    },
    "hidden": true
   },
   "outputs": [],
   "source": [
    "df3.head()"
   ]
  },
  {
   "cell_type": "markdown",
   "id": "c30ff8bf",
   "metadata": {
    "hidden": true
   },
   "source": [
    "## 3.1 Filtering lines\n"
   ]
  },
  {
   "cell_type": "code",
   "execution_count": null,
   "id": "a399f573",
   "metadata": {
    "ExecuteTime": {
     "start_time": "2024-02-01T17:59:09.697Z"
    },
    "hidden": true
   },
   "outputs": [],
   "source": [
    "df3 = df3[ (df3['open'] != 0) & (df3['sales'] > 0)]"
   ]
  },
  {
   "cell_type": "markdown",
   "id": "1bf6247a",
   "metadata": {
    "hidden": true
   },
   "source": [
    "## 3.2 Filtering columns"
   ]
  },
  {
   "cell_type": "code",
   "execution_count": null,
   "id": "defadbe7",
   "metadata": {
    "ExecuteTime": {
     "start_time": "2024-02-01T17:59:09.698Z"
    },
    "hidden": true
   },
   "outputs": [],
   "source": [
    "cols_drop = ['customers', 'open', 'promo_interval', 'month_map']\n",
    "df3 = df3.drop(cols_drop, axis = 1)"
   ]
  },
  {
   "cell_type": "code",
   "execution_count": null,
   "id": "9a8eebb0",
   "metadata": {
    "ExecuteTime": {
     "start_time": "2024-02-01T17:59:09.699Z"
    },
    "hidden": true
   },
   "outputs": [],
   "source": [
    "df3.head()"
   ]
  },
  {
   "cell_type": "markdown",
   "id": "b3fd349f",
   "metadata": {},
   "source": [
    "# 4.0 - Exploratory Data Analysis"
   ]
  },
  {
   "cell_type": "code",
   "execution_count": null,
   "id": "23dfd2b6",
   "metadata": {
    "ExecuteTime": {
     "start_time": "2024-02-01T17:59:09.700Z"
    }
   },
   "outputs": [],
   "source": [
    "df4 = df3.copy()"
   ]
  },
  {
   "cell_type": "markdown",
   "id": "53d10db3",
   "metadata": {},
   "source": [
    "## 4.1 Univariate Analysis\n"
   ]
  },
  {
   "cell_type": "markdown",
   "id": "bc82eb0c",
   "metadata": {
    "heading_collapsed": true
   },
   "source": [
    "### 4.1.1 Response Variable\n"
   ]
  },
  {
   "cell_type": "code",
   "execution_count": null,
   "id": "e17b4538",
   "metadata": {
    "ExecuteTime": {
     "start_time": "2024-02-01T17:59:09.701Z"
    },
    "hidden": true
   },
   "outputs": [],
   "source": [
    "sns.displot( df4['sales'], kde=False)"
   ]
  },
  {
   "cell_type": "markdown",
   "id": "39e12d57",
   "metadata": {
    "heading_collapsed": true
   },
   "source": [
    "### 4.1.2 Numerical Variable\n"
   ]
  },
  {
   "cell_type": "code",
   "execution_count": null,
   "id": "8b55699a",
   "metadata": {
    "ExecuteTime": {
     "start_time": "2024-02-01T17:59:09.702Z"
    },
    "hidden": true
   },
   "outputs": [],
   "source": [
    "num_attributes.hist( bins=25);"
   ]
  },
  {
   "cell_type": "markdown",
   "id": "fce17597",
   "metadata": {
    "heading_collapsed": true
   },
   "source": [
    "### 4.1.3 Categorical Variable"
   ]
  },
  {
   "cell_type": "code",
   "execution_count": null,
   "id": "5dc6a340",
   "metadata": {
    "ExecuteTime": {
     "start_time": "2024-02-01T17:59:09.704Z"
    },
    "hidden": true
   },
   "outputs": [],
   "source": [
    "sns.__version__"
   ]
  },
  {
   "cell_type": "code",
   "execution_count": null,
   "id": "f129dde3",
   "metadata": {
    "ExecuteTime": {
     "start_time": "2024-02-01T17:59:09.705Z"
    },
    "code_folding": [],
    "hidden": true
   },
   "outputs": [],
   "source": [
    "# state_holiday\n",
    "plt.subplot(3, 2, 1)\n",
    "a = df4[df4[\"state_holiday\"] != \"regular_date\"]\n",
    "sns.barplot(a, x = 'state_holiday', y = 'sales')\n",
    "\n",
    "plt.subplot(3, 2, 2)\n",
    "sns.kdeplot(df4[df4[\"state_holiday\"] == \"public_holiday\"][\"sales\"], label=\"public_holiday\", fill=True)\n",
    "sns.kdeplot(df4[df4[\"state_holiday\"] == \"easter_holiday\"][\"sales\"], label=\"easter_holiday\", fill=True)\n",
    "sns.kdeplot(df4[df4[\"state_holiday\"] == \"christmas\"][\"sales\"], label=\"christmas\", fill=True)\n",
    "\n",
    "# store_type\n",
    "plt.subplot(3, 2, 3)\n",
    "sns.barplot(df4, x = 'store_type', y = 'sales')\n",
    "\n",
    "plt.subplot(3, 2, 4)\n",
    "sns.kdeplot(df4[df4[\"store_type\"] == \"a\"][\"sales\"], label=\"a\", fill=True)\n",
    "sns.kdeplot(df4[df4[\"store_type\"] == \"b\"][\"sales\"], label=\"b\", fill=True)\n",
    "sns.kdeplot(df4[df4[\"store_type\"] == \"c\"][\"sales\"], label=\"b\", fill=True)\n",
    "sns.kdeplot(df4[df4[\"store_type\"] == \"d\"][\"sales\"], label=\"b\", fill=True)\n",
    "\n",
    "# Assortment\n",
    "plt.subplot(3, 2, 5)\n",
    "sns.barplot(df4, x = 'assortment', y = 'sales')\n",
    "\n",
    "plt.subplot(3, 2, 6)\n",
    "sns.kdeplot(df4[df4[\"assortment\"] == \"extended\"][\"sales\"], label=\"extended\", fill=True)\n",
    "sns.kdeplot(df4[df4[\"assortment\"] == \"basic\"][\"sales\"], label=\"basic\", fill=True)\n",
    "sns.kdeplot(df4[df4[\"assortment\"] == \"extra\"][\"sales\"], label=\"extra\", fill=True)\n"
   ]
  },
  {
   "cell_type": "markdown",
   "id": "1ede1e98",
   "metadata": {},
   "source": [
    "## 4.2 Bivariate Analysis"
   ]
  },
  {
   "cell_type": "markdown",
   "id": "fc2accba",
   "metadata": {},
   "source": [
    "H1: Lojas com maior sortimento deveriam vender mais"
   ]
  },
  {
   "cell_type": "code",
   "execution_count": null,
   "id": "f50b21d3",
   "metadata": {
    "ExecuteTime": {
     "start_time": "2024-02-01T17:59:09.706Z"
    }
   },
   "outputs": [],
   "source": [
    "plt.subplot( 1, 2, 1)\n",
    "aux1 = df4[['assortment', 'sales']].groupby( 'assortment' ).sum().reset_index()\n",
    "sns.barplot( x='assortment', y='sales', data=aux1)\n",
    "\n",
    "plt.subplot( 1, 2, 2)\n",
    "aux2 = df4[['assortment', 'sales']].groupby( 'assortment' ).mean().reset_index()\n",
    "sns.barplot( x='assortment', y='sales', data=aux2);\n",
    "\n",
    "aux3 = df4[[ 'year_week', 'assortment', 'sales']].groupby( ['year_week', 'assortment'] ).sum().reset_index()\n",
    "aux3.pivot( index='year_week', columns='assortment', values='sales').plot();\n",
    "\n",
    "aux4 = aux3[aux3['assortment'] == 'extra']\n",
    "aux4.pivot( index='year_week', columns='assortment', values='sales').plot();"
   ]
  },
  {
   "cell_type": "markdown",
   "id": "865100f4",
   "metadata": {},
   "source": [
    "H2: Lojas com competidores mais próximos deveriam vender menos."
   ]
  },
  {
   "cell_type": "code",
   "execution_count": null,
   "id": "e9b6f87c",
   "metadata": {
    "ExecuteTime": {
     "start_time": "2024-02-01T17:59:09.707Z"
    }
   },
   "outputs": [],
   "source": [
    "aux1 = df4[['competition_distance', 'sales']].groupby( 'competition_distance' ).sum().reset_index()\n",
    "\n",
    "plt.subplot( 1, 3, 1)\n",
    "sns.scatterplot( x='competition_distance', y='sales', data=aux1)\n",
    "\n",
    "plt.subplot( 1, 3, 3)\n",
    "sns.heatmap( aux1.corr( method='pearson' ), annot=True );\n",
    "\n",
    "plt.subplot( 1, 3, 2)\n",
    "bins = list( np.arange( 0, 20000, 1000 ) )\n",
    "\n",
    "aux1['competition_distance_binned'] = pd.cut( aux1['competition_distance'], bins=bins )\n",
    "aux2 = aux1[['competition_distance_binned', 'sales']].groupby( 'competition_distance_binned' ).sum().reset_index()\n",
    "sns.barplot( x='competition_distance_binned', y='sales', data=aux2)\n",
    "plt.xticks( rotation=90 );"
   ]
  },
  {
   "cell_type": "markdown",
   "id": "ba70a096",
   "metadata": {},
   "source": [
    "H3: Lojas com competidores há mais tempo deveriam vendem mais."
   ]
  },
  {
   "cell_type": "code",
   "execution_count": null,
   "id": "522ca9f0",
   "metadata": {
    "ExecuteTime": {
     "start_time": "2024-02-01T17:59:09.708Z"
    }
   },
   "outputs": [],
   "source": [
    "plt.subplot( 1, 3, 1 )\n",
    "aux1 = df4[['competition_time_month', 'sales']].groupby( 'competition_time_month' ).sum().reset_index()\n",
    "aux2 = aux1[( aux1['competition_time_month'] < 120 ) & ( aux1['competition_time_month'] != 0)]\n",
    "sns.barplot( x='competition_time_month', y='sales', data=aux2 );\n",
    "plt.xticks( rotation=90 );\n",
    "\n",
    "plt.subplot( 1, 3, 2 )\n",
    "sns.regplot( x='competition_time_month', y='sales', data=aux2 );\n",
    "\n",
    "plt.subplot( 1, 3, 3 )\n",
    "sns.heatmap( aux1.corr( method='pearson' ), annot=True );"
   ]
  },
  {
   "cell_type": "markdown",
   "id": "87a46f86",
   "metadata": {},
   "source": [
    "H4: Lojas com promoções ativas por mais tempo deveriam vender mais."
   ]
  },
  {
   "cell_type": "code",
   "execution_count": null,
   "id": "7e5b35ef",
   "metadata": {
    "ExecuteTime": {
     "start_time": "2024-02-01T17:59:09.709Z"
    }
   },
   "outputs": [],
   "source": [
    "aux1 = df4[['promo_time_week', 'sales']].groupby('promo_time_week').sum().reset_index()\n",
    "\n",
    "grid = GridSpec( 2, 3 )\n",
    "\n",
    "plt.subplot( grid[0, 0] )\n",
    "aux2 = aux1[aux1['promo_time_week'] > 0] # periodo extendido\n",
    "sns.barplot( x='promo_time_week', y='sales', data=aux2 );\n",
    "plt.xticks( rotation=90 )\n",
    "\n",
    "plt.subplot( grid[0, 1] )\n",
    "sns.regplot( x='promo_time_week', y='sales', data=aux2 );\n",
    "\n",
    "plt.subplot( grid[1, 0] )\n",
    "aux3 = aux1[aux1['promo_time_week'] < 0] # periodo regular\n",
    "sns.barplot( x='promo_time_week', y='sales', data=aux3 );\n",
    "plt.xticks( rotation=90 );\n",
    "\n",
    "plt.subplot( grid[1, 1] )\n",
    "sns.regplot( x='promo_time_week', y='sales', data=aux3 );\n",
    "\n",
    "plt.subplot( grid[:, 2] )\n",
    "sns.heatmap( aux1.corr( method='pearson' ), annot=True );"
   ]
  },
  {
   "cell_type": "markdown",
   "id": "b8ccc057",
   "metadata": {},
   "source": [
    "H5: Lojas com mais promoções consecutivas deveriam vender mais."
   ]
  },
  {
   "cell_type": "code",
   "execution_count": null,
   "id": "76f61187",
   "metadata": {
    "ExecuteTime": {
     "start_time": "2024-02-01T17:59:09.710Z"
    }
   },
   "outputs": [],
   "source": [
    "df4[['promo', 'promo2', 'sales']].groupby( ['promo', 'promo2'] ).sum().reset_index().sort_values('sales', ascending=True)"
   ]
  },
  {
   "cell_type": "code",
   "execution_count": null,
   "id": "d0d433fb",
   "metadata": {
    "ExecuteTime": {
     "start_time": "2024-02-01T17:59:09.711Z"
    }
   },
   "outputs": [],
   "source": [
    "aux1 = df4[( df4['promo'] == 1 ) & ( df4['promo2'] == 1 )][['year_week', 'sales']].groupby( 'year_week' ).sum().reset_index()\n",
    "ax = aux1.plot()\n",
    "\n",
    "aux2 = df4[( df4['promo'] == 1 ) & ( df4['promo2'] == 0 )][['year_week', 'sales']].groupby( 'year_week' ).sum().reset_index()\n",
    "aux2.plot( ax=ax );\n",
    "\n",
    "ax.legend( labels= ['Tradicional & Extendida', 'Extendida']);"
   ]
  },
  {
   "cell_type": "markdown",
   "id": "ba2bb928",
   "metadata": {},
   "source": [
    "H6: Lojas abertas durante o feriado de Natal deveriam vender mais."
   ]
  },
  {
   "cell_type": "code",
   "execution_count": null,
   "id": "392cb51e",
   "metadata": {
    "ExecuteTime": {
     "start_time": "2024-02-01T17:59:09.712Z"
    }
   },
   "outputs": [],
   "source": [
    "aux = df4[df4['state_holiday'] != 'regular_date']\n",
    "\n",
    "plt.subplot( 1, 2, 1)\n",
    "aux1 = aux[['state_holiday', 'sales']].groupby('state_holiday').sum().reset_index()\n",
    "sns.barplot( x='state_holiday', y='sales', data=aux1);\n",
    "\n",
    "plt.subplot( 1, 2, 2)\n",
    "aux2 = aux[['year', 'state_holiday', 'sales']].groupby( ['year', 'state_holiday'] ).sum().reset_index()\n",
    "sns.barplot( x='year', y='sales', hue='state_holiday', data=aux2);"
   ]
  },
  {
   "cell_type": "markdown",
   "id": "f94f4ac8",
   "metadata": {},
   "source": [
    "H7: Lojas deveriam vender mais ao longo dos anos."
   ]
  },
  {
   "cell_type": "code",
   "execution_count": null,
   "id": "aa16a636",
   "metadata": {
    "ExecuteTime": {
     "start_time": "2024-02-01T17:59:09.714Z"
    }
   },
   "outputs": [],
   "source": [
    "plt.subplot( 1, 3, 1)\n",
    "aux1 = df4[['year', 'sales']].groupby('year').sum().reset_index()\n",
    "sns.barplot( x='year', y='sales', data=aux1 );\n",
    "\n",
    "plt.subplot( 1, 3, 2)\n",
    "sns.regplot( x='year', y='sales', data=aux1 );\n",
    "\n",
    "plt.subplot( 1, 3, 3)\n",
    "sns.heatmap( aux1.corr( method='pearson' ), annot=True );"
   ]
  },
  {
   "cell_type": "markdown",
   "id": "c05ab5de",
   "metadata": {},
   "source": [
    "H8: Lojas deveriam vender mais no segundo semestre do ano."
   ]
  },
  {
   "cell_type": "code",
   "execution_count": null,
   "id": "42c47ebf",
   "metadata": {
    "ExecuteTime": {
     "start_time": "2024-02-01T17:59:09.715Z"
    }
   },
   "outputs": [],
   "source": [
    "plt.subplot( 1, 3, 1)\n",
    "aux1 = df4[['month', 'sales']].groupby('month').sum().reset_index()\n",
    "sns.barplot( x='month', y='sales', data=aux1 );\n",
    "\n",
    "plt.subplot( 1, 3, 2)\n",
    "sns.regplot( x='month', y='sales', data=aux1 );\n",
    "\n",
    "plt.subplot( 1, 3, 3)\n",
    "sns.heatmap( aux1.corr( method='pearson' ), annot=True );"
   ]
  },
  {
   "cell_type": "markdown",
   "id": "72a93c00",
   "metadata": {},
   "source": [
    "H9: Lojas deveriam vender mais depois do dia 10 de cada mês."
   ]
  },
  {
   "cell_type": "code",
   "execution_count": null,
   "id": "808a7e4f",
   "metadata": {
    "ExecuteTime": {
     "start_time": "2024-02-01T17:59:09.716Z"
    }
   },
   "outputs": [],
   "source": [
    "plt.subplot( 1, 3, 1)\n",
    "aux1 = df4[['day', 'sales']].groupby('day').sum().reset_index()\n",
    "sns.barplot( x='day', y='sales', data=aux1 );\n",
    "\n",
    "plt.subplot( 1, 3, 2)\n",
    "sns.regplot( x='day', y='sales', data=aux1 );\n",
    "\n",
    "plt.subplot( 1, 3, 3)\n",
    "sns.heatmap( aux1.corr( method='pearson' ), annot=True );"
   ]
  },
  {
   "cell_type": "code",
   "execution_count": null,
   "id": "de0b1b81",
   "metadata": {
    "ExecuteTime": {
     "start_time": "2024-02-01T17:59:09.716Z"
    }
   },
   "outputs": [],
   "source": [
    "aux1['before_after'] = aux1['day'].apply( lambda x: 'before_10_days' if x <= 10 else 'after_10_days' )\n",
    "\n",
    "plt.subplot( 1, 2, 1 )\n",
    "aux2 = aux1[['before_after', 'sales']].groupby( 'before_after' ).sum().reset_index()\n",
    "sns.barplot( x='before_after', y='sales', data=aux2);\n",
    "\n",
    "plt.subplot( 1, 2, 2 )\n",
    "aux3 = aux1[['before_after', 'sales']].groupby( 'before_after' ).mean().reset_index()\n",
    "sns.barplot( x='before_after', y='sales', data=aux3);"
   ]
  },
  {
   "cell_type": "markdown",
   "id": "14ffddcf",
   "metadata": {},
   "source": [
    "H10: Lojas deveriam vender menos aos finais de semana."
   ]
  },
  {
   "cell_type": "code",
   "execution_count": null,
   "id": "8e55f75e",
   "metadata": {
    "ExecuteTime": {
     "start_time": "2024-02-01T17:59:09.717Z"
    }
   },
   "outputs": [],
   "source": [
    "plt.subplot( 1, 3, 1)\n",
    "aux1 = df4[['day_of_week', 'sales']].groupby('day_of_week').sum().reset_index()\n",
    "sns.barplot( x='day_of_week', y='sales', data=aux1 );\n",
    "\n",
    "plt.subplot( 1, 3, 2)\n",
    "sns.regplot( x='day_of_week', y='sales', data=aux1 );\n",
    "\n",
    "plt.subplot( 1, 3, 3)\n",
    "sns.heatmap( aux1.corr( method='pearson' ), annot=True );"
   ]
  },
  {
   "cell_type": "markdown",
   "id": "21800cf1",
   "metadata": {},
   "source": [
    "H11: Lojas deveriam vender menos durante os feriados escolares."
   ]
  },
  {
   "cell_type": "code",
   "execution_count": null,
   "id": "4a8a5b56",
   "metadata": {
    "ExecuteTime": {
     "start_time": "2024-02-01T17:59:09.719Z"
    }
   },
   "outputs": [],
   "source": [
    "plt.subplot( 1, 3, 1)\n",
    "aux1 = df4[['school_holiday', 'sales']].groupby('school_holiday').sum().reset_index()\n",
    "sns.barplot( x='school_holiday', y='sales', data=aux1 );\n",
    "\n",
    "plt.subplot( 1, 3, 2)\n",
    "sns.regplot( x='school_holiday', y='sales', data=aux1 );\n",
    "\n",
    "plt.subplot( 1, 3, 3)\n",
    "sns.heatmap( aux1.corr( method='pearson' ), annot=True );\n"
   ]
  },
  {
   "cell_type": "code",
   "execution_count": null,
   "id": "c2c21470",
   "metadata": {
    "ExecuteTime": {
     "start_time": "2024-02-01T17:59:09.719Z"
    }
   },
   "outputs": [],
   "source": [
    "aux2 = df4[['month', 'school_holiday', 'sales']].groupby( ['month', 'school_holiday'] ).sum().reset_index()\n",
    "sns.barplot( x='month', y='sales', hue='school_holiday', data=aux2 );"
   ]
  },
  {
   "cell_type": "markdown",
   "id": "5bf8c225",
   "metadata": {},
   "source": [
    "\n",
    "### 4.2.1. Summary of Hypotheses\n"
   ]
  },
  {
   "cell_type": "code",
   "execution_count": null,
   "id": "1e04d678",
   "metadata": {
    "ExecuteTime": {
     "start_time": "2024-02-01T17:59:09.720Z"
    }
   },
   "outputs": [],
   "source": [
    "tab = [['Hipoteses', 'Conclusao', 'Relevancia'],\n",
    "       ['H1', 'FALSA', 'BAIXA'],\n",
    "       ['H2', 'FALSA', 'MEDIA'],\n",
    "       ['H3', 'FALSA', 'MEDIA'],\n",
    "       ['H4', 'FALSA', 'BAIXA'],\n",
    "       ['H5', 'FALSA', 'BAIXA'],\n",
    "       ['H6', 'FALSA', 'MEDIA'],\n",
    "       ['H7', 'FALSA', 'ALTA'],\n",
    "       ['H8', 'FALSA', 'ALTA'],\n",
    "       ['H9', 'VERDADEIRA', 'ALTA'],\n",
    "       ['H10', 'VERDADEIRA', 'ALTA'],\n",
    "       ['H11', 'VERDADEIRA', 'BAIXA']]\n",
    "print( tabulate( tab, headers='firstrow' ) )"
   ]
  },
  {
   "cell_type": "markdown",
   "id": "99d21fae",
   "metadata": {},
   "source": [
    "## 4.3 Multivariate Analysis"
   ]
  },
  {
   "cell_type": "markdown",
   "id": "05016df9",
   "metadata": {},
   "source": [
    "### 4.3.1. Numerical Attributes\n"
   ]
  },
  {
   "cell_type": "code",
   "execution_count": null,
   "id": "7990b119",
   "metadata": {
    "ExecuteTime": {
     "start_time": "2024-02-01T17:59:09.722Z"
    }
   },
   "outputs": [],
   "source": [
    "correlation = num_attributes.corr( method='pearson' )\n",
    "sns.heatmap( correlation, annot=True );"
   ]
  },
  {
   "cell_type": "markdown",
   "id": "f8a9827c",
   "metadata": {},
   "source": [
    "### 4.3.2. Categorical Attributes\n"
   ]
  },
  {
   "cell_type": "code",
   "execution_count": null,
   "id": "ce04796b",
   "metadata": {
    "ExecuteTime": {
     "start_time": "2024-02-01T17:59:09.723Z"
    }
   },
   "outputs": [],
   "source": [
    "# only categorical data\n",
    "a = df4.select_dtypes( include='object')\n",
    "\n",
    "# calculate cramer's v\n",
    "a1 = cramer_v( a['state_holiday'], a['state_holiday'] )\n",
    "a2 = cramer_v( a['state_holiday'], a['store_type'] )\n",
    "a3 = cramer_v( a['state_holiday'], a['assortment'] )\n",
    "\n",
    "a4 = cramer_v( a['store_type'], a['state_holiday'] )\n",
    "a5 = cramer_v( a['store_type'], a['store_type'] )\n",
    "a6 = cramer_v( a['store_type'], a['assortment'] )\n",
    "\n",
    "a7 = cramer_v( a['assortment'], a['state_holiday'] )\n",
    "a8 = cramer_v( a['assortment'], a['store_type'] )\n",
    "a9 = cramer_v( a['assortment'], a['assortment'] )\n",
    "\n",
    "# final data frame\n",
    "d = pd.DataFrame( {'state_holiday': [a1, a2, a3], \n",
    "                   'store_type': [a4, a5, a6],\n",
    "                   'assortment': [a7, a8, a9] })\n",
    "\n",
    "d = d.set_index( d.columns )\n",
    "\n",
    "sns.heatmap( d, annot=True );"
   ]
  },
  {
   "cell_type": "code",
   "execution_count": null,
   "id": "be66700f",
   "metadata": {},
   "outputs": [],
   "source": []
  }
 ],
 "metadata": {
  "kernelspec": {
   "display_name": "Python 3 (ipykernel)",
   "language": "python",
   "name": "python3"
  },
  "language_info": {
   "codemirror_mode": {
    "name": "ipython",
    "version": 3
   },
   "file_extension": ".py",
   "mimetype": "text/x-python",
   "name": "python",
   "nbconvert_exporter": "python",
   "pygments_lexer": "ipython3",
   "version": "3.10.6"
  }
 },
 "nbformat": 4,
 "nbformat_minor": 5
}
