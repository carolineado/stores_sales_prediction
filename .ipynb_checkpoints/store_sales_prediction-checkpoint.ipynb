{
 "cells": [
  {
   "cell_type": "markdown",
   "id": "1b111cdf",
   "metadata": {},
   "source": [
    "# 0.0 Configuration and Data Loading"
   ]
  },
  {
   "cell_type": "markdown",
   "id": "41d42cb8",
   "metadata": {},
   "source": [
    "## 0.1 Imports"
   ]
  },
  {
   "cell_type": "code",
   "execution_count": 29,
   "id": "8d46161a",
   "metadata": {
    "ExecuteTime": {
     "end_time": "2023-07-02T17:37:06.973340Z",
     "start_time": "2023-07-02T17:37:06.967530Z"
    }
   },
   "outputs": [],
   "source": [
    "import pandas as pd\n",
    "import math\n",
    "import inflection\n",
    "import numpy as np\n",
    "import seaborn as sns\n",
    "import datetime\n",
    "\n",
    "from scipy                             import stats as ss\n",
    "from matplotlib                        import pyplot as plt\n",
    "from matplotlib.gridspec               import GridSpec\n",
    "from IPython.display                   import Image\n",
    "from IPython.core.display              import HTML\n",
    "from boruta                            import BorutaPy\n",
    "\n",
    "from sklearn.preprocessing             import RobustScaler, MinMaxScaler, LabelEncoder\n",
    "from sklearn.ensemble                  import RandomForestRegressor"
   ]
  },
  {
   "cell_type": "markdown",
   "id": "4e41bf05",
   "metadata": {},
   "source": [
    "## 0.2 Helper Functions"
   ]
  },
  {
   "cell_type": "code",
   "execution_count": 30,
   "id": "8379ac8c",
   "metadata": {
    "ExecuteTime": {
     "end_time": "2023-07-02T17:37:06.983410Z",
     "start_time": "2023-07-02T17:37:06.976409Z"
    }
   },
   "outputs": [],
   "source": [
    "def jupyter_settings():\n",
    "    \n",
    "    %matplotlib inline\n",
    "    \n",
    "    plt.style.use( 'bmh' )\n",
    "    plt.rcParams['figure.figsize'] = [25, 12]\n",
    "    plt.rcParams['font.size'] = 24\n",
    "    display( HTML( '<style>.container { width:100% !important; }</style>') )\n",
    "    pd.options.display.max_columns = None\n",
    "    pd.options.display.max_rows = None\n",
    "    pd.set_option( 'display.expand_frame_repr', False )\n",
    "    sns.set()"
   ]
  },
  {
   "cell_type": "code",
   "execution_count": 31,
   "id": "283007b9",
   "metadata": {
    "ExecuteTime": {
     "end_time": "2023-07-02T17:37:06.994614Z",
     "start_time": "2023-07-02T17:37:06.986355Z"
    }
   },
   "outputs": [
    {
     "data": {
      "text/html": [
       "<style>.container { width:100% !important; }</style>"
      ],
      "text/plain": [
       "<IPython.core.display.HTML object>"
      ]
     },
     "metadata": {},
     "output_type": "display_data"
    }
   ],
   "source": [
    "jupyter_settings()"
   ]
  },
  {
   "cell_type": "markdown",
   "id": "7561fc4f",
   "metadata": {},
   "source": [
    "## 0.3 Loading Data"
   ]
  },
  {
   "cell_type": "code",
   "execution_count": 32,
   "id": "7a75aa76",
   "metadata": {
    "ExecuteTime": {
     "end_time": "2023-07-02T17:37:08.057783Z",
     "start_time": "2023-07-02T17:37:06.998727Z"
    }
   },
   "outputs": [],
   "source": [
    "df_sales_raw = pd.read_csv( 'data/train.csv', low_memory = False )\n",
    "df_store_raw = pd.read_csv( 'data/store.csv', low_memory = False )\n",
    "\n",
    "df_raw = pd.merge(df_sales_raw, df_store_raw, 'left', 'Store')"
   ]
  },
  {
   "cell_type": "markdown",
   "id": "775ecc14",
   "metadata": {},
   "source": [
    "# 1.0 Data Description"
   ]
  },
  {
   "cell_type": "markdown",
   "id": "e40d0fa9",
   "metadata": {},
   "source": [
    "## 1.1 Rename Columns"
   ]
  },
  {
   "cell_type": "code",
   "execution_count": 33,
   "id": "d8516116",
   "metadata": {
    "ExecuteTime": {
     "end_time": "2023-07-02T17:37:08.320108Z",
     "start_time": "2023-07-02T17:37:08.060670Z"
    }
   },
   "outputs": [],
   "source": [
    "df1 = df_raw.copy()"
   ]
  },
  {
   "cell_type": "code",
   "execution_count": 34,
   "id": "ef7ad380",
   "metadata": {
    "ExecuteTime": {
     "end_time": "2023-07-02T17:37:08.330326Z",
     "start_time": "2023-07-02T17:37:08.323960Z"
    }
   },
   "outputs": [
    {
     "data": {
      "text/plain": [
       "Index(['Store', 'DayOfWeek', 'Date', 'Sales', 'Customers', 'Open', 'Promo',\n",
       "       'StateHoliday', 'SchoolHoliday', 'StoreType', 'Assortment',\n",
       "       'CompetitionDistance', 'CompetitionOpenSinceMonth',\n",
       "       'CompetitionOpenSinceYear', 'Promo2', 'Promo2SinceWeek',\n",
       "       'Promo2SinceYear', 'PromoInterval'],\n",
       "      dtype='object')"
      ]
     },
     "execution_count": 34,
     "metadata": {},
     "output_type": "execute_result"
    }
   ],
   "source": [
    "df1.columns"
   ]
  },
  {
   "cell_type": "code",
   "execution_count": 35,
   "id": "964d9404",
   "metadata": {
    "ExecuteTime": {
     "end_time": "2023-07-02T17:37:08.356149Z",
     "start_time": "2023-07-02T17:37:08.334452Z"
    }
   },
   "outputs": [],
   "source": [
    "old_cols = ['Store', 'DayOfWeek', 'Date', 'Sales', 'Customers', 'Open', 'Promo', 'StateHoliday', 'SchoolHoliday', \n",
    "            'StoreType', 'Assortment', 'CompetitionDistance', 'CompetitionOpenSinceMonth',\n",
    "            'CompetitionOpenSinceYear', 'Promo2', 'Promo2SinceWeek', 'Promo2SinceYear', 'PromoInterval']\n",
    "\n",
    "snakecase = lambda x: inflection.underscore( x )\n",
    "\n",
    "new_cols = list( map( snakecase, old_cols ) )"
   ]
  },
  {
   "cell_type": "code",
   "execution_count": 36,
   "id": "1d86c015",
   "metadata": {
    "ExecuteTime": {
     "end_time": "2023-07-02T17:37:08.370050Z",
     "start_time": "2023-07-02T17:37:08.363107Z"
    }
   },
   "outputs": [],
   "source": [
    "df1.columns = new_cols"
   ]
  },
  {
   "cell_type": "code",
   "execution_count": 37,
   "id": "b8f6b56c",
   "metadata": {
    "ExecuteTime": {
     "end_time": "2023-07-02T17:37:08.384064Z",
     "start_time": "2023-07-02T17:37:08.375062Z"
    }
   },
   "outputs": [
    {
     "data": {
      "text/plain": [
       "Index(['store', 'day_of_week', 'date', 'sales', 'customers', 'open', 'promo',\n",
       "       'state_holiday', 'school_holiday', 'store_type', 'assortment',\n",
       "       'competition_distance', 'competition_open_since_month',\n",
       "       'competition_open_since_year', 'promo2', 'promo2_since_week',\n",
       "       'promo2_since_year', 'promo_interval'],\n",
       "      dtype='object')"
      ]
     },
     "execution_count": 37,
     "metadata": {},
     "output_type": "execute_result"
    }
   ],
   "source": [
    "df1.columns"
   ]
  },
  {
   "cell_type": "markdown",
   "id": "65b4c8f5",
   "metadata": {},
   "source": [
    "## 1.2 Data Dimentions"
   ]
  },
  {
   "cell_type": "code",
   "execution_count": 38,
   "id": "e2370507",
   "metadata": {
    "ExecuteTime": {
     "end_time": "2023-07-02T17:37:19.837996Z",
     "start_time": "2023-07-02T17:37:19.833406Z"
    }
   },
   "outputs": [],
   "source": [
    "print( 'Name of rows: {}'.format( df1.shape[0] ) )\n",
    "print( 'Name of cols: {}'.format( df1.shape[1] ) )"
   ]
  },
  {
   "cell_type": "markdown",
   "id": "952f8a05",
   "metadata": {},
   "source": [
    "## 1.3 Data Types"
   ]
  },
  {
   "cell_type": "code",
   "execution_count": 39,
   "id": "01b00cd9",
   "metadata": {
    "ExecuteTime": {
     "end_time": "2023-07-02T17:37:19.939340Z",
     "start_time": "2023-07-02T17:37:19.840922Z"
    }
   },
   "outputs": [
    {
     "data": {
      "text/plain": [
       "store                                    int64\n",
       "day_of_week                              int64\n",
       "date                            datetime64[ns]\n",
       "sales                                    int64\n",
       "customers                                int64\n",
       "open                                     int64\n",
       "promo                                    int64\n",
       "state_holiday                           object\n",
       "school_holiday                           int64\n",
       "store_type                              object\n",
       "assortment                              object\n",
       "competition_distance                   float64\n",
       "competition_open_since_month           float64\n",
       "competition_open_since_year            float64\n",
       "promo2                                   int64\n",
       "promo2_since_week                      float64\n",
       "promo2_since_year                      float64\n",
       "promo_interval                          object\n",
       "dtype: object"
      ]
     },
     "execution_count": 39,
     "metadata": {},
     "output_type": "execute_result"
    }
   ],
   "source": [
    "df1['date'] = pd.to_datetime( df1['date'] )\n",
    "df1.dtypes"
   ]
  },
  {
   "cell_type": "markdown",
   "id": "2a55194c",
   "metadata": {},
   "source": [
    "## 1.4 Check NA"
   ]
  },
  {
   "cell_type": "code",
   "execution_count": 40,
   "id": "b1c55dae",
   "metadata": {
    "ExecuteTime": {
     "end_time": "2023-07-02T17:37:20.197413Z",
     "start_time": "2023-07-02T17:37:19.941080Z"
    }
   },
   "outputs": [
    {
     "data": {
      "text/plain": [
       "store                                0\n",
       "day_of_week                          0\n",
       "date                                 0\n",
       "sales                                0\n",
       "customers                            0\n",
       "open                                 0\n",
       "promo                                0\n",
       "state_holiday                        0\n",
       "school_holiday                       0\n",
       "store_type                           0\n",
       "assortment                           0\n",
       "competition_distance              2642\n",
       "competition_open_since_month    323348\n",
       "competition_open_since_year     323348\n",
       "promo2                               0\n",
       "promo2_since_week               508031\n",
       "promo2_since_year               508031\n",
       "promo_interval                  508031\n",
       "dtype: int64"
      ]
     },
     "execution_count": 40,
     "metadata": {},
     "output_type": "execute_result"
    }
   ],
   "source": [
    "df1.isna().sum()"
   ]
  },
  {
   "cell_type": "markdown",
   "id": "0c13dae3",
   "metadata": {},
   "source": [
    "## 1.5 Fillout NA"
   ]
  },
  {
   "cell_type": "markdown",
   "id": "93500049",
   "metadata": {
    "ExecuteTime": {
     "end_time": "2023-07-02T17:34:21.717827Z",
     "start_time": "2023-07-02T17:34:21.699252Z"
    }
   },
   "source": [
    "Quando não há informação de competidor mais próximo (NA), considerei a distância como 200000 (quase 3x o valor da distância do competidor mais longe)."
   ]
  },
  {
   "cell_type": "code",
   "execution_count": 41,
   "id": "2a979eb6",
   "metadata": {
    "ExecuteTime": {
     "end_time": "2023-07-02T17:37:20.228916Z",
     "start_time": "2023-07-02T17:37:20.213850Z"
    }
   },
   "outputs": [
    {
     "data": {
      "text/plain": [
       "75860.0"
      ]
     },
     "execution_count": 41,
     "metadata": {},
     "output_type": "execute_result"
    }
   ],
   "source": [
    "df1['competition_distance'].max()"
   ]
  },
  {
   "cell_type": "code",
   "execution_count": 42,
   "id": "b4f315dd",
   "metadata": {
    "ExecuteTime": {
     "end_time": "2023-07-02T17:37:20.640066Z",
     "start_time": "2023-07-02T17:37:20.231739Z"
    }
   },
   "outputs": [],
   "source": [
    "df1['competition_distance'] = df1['competition_distance'].apply( lambda x: 200000.0 if math.isnan( x ) else x )"
   ]
  },
  {
   "cell_type": "markdown",
   "id": "16c002d5",
   "metadata": {},
   "source": [
    "Quando não há informação sobre:\n",
    "   - há quantos meses há um competidor mais próximo\n",
    "   - há quantos anos há um competidor mais próximo\n",
    "   - a semana do ano em que a loja começou a participar da promoção 'promo2'\n",
    "   - o ano em que a loja começou a participar da promoção 'promo2'\n",
    "\n",
    "substituí pela informação baseada na data de atualização da base."
   ]
  },
  {
   "cell_type": "code",
   "execution_count": 44,
   "id": "d11bfd73",
   "metadata": {
    "ExecuteTime": {
     "end_time": "2023-07-02T17:37:59.268827Z",
     "start_time": "2023-07-02T17:37:29.267934Z"
    }
   },
   "outputs": [],
   "source": [
    "df1['competition_open_since_month'] = df1.apply( lambda x: x['date'].month if math.isnan( x['competition_open_since_month'] ) else x['competition_open_since_month'], axis=1)\n",
    "df1['competition_open_since_year'] = df1.apply( lambda x: x['date'].year if math.isnan( x['competition_open_since_year'] ) else x['competition_open_since_year'], axis=1)"
   ]
  },
  {
   "cell_type": "code",
   "execution_count": 45,
   "id": "2b3b0d8d",
   "metadata": {
    "ExecuteTime": {
     "end_time": "2023-07-02T17:38:29.704805Z",
     "start_time": "2023-07-02T17:37:59.271473Z"
    }
   },
   "outputs": [],
   "source": [
    "df1['promo2_since_week'] = df1.apply( lambda x: x['date'].month if math.isnan( x['promo2_since_week'] ) else x['promo2_since_week'], axis = 1 )\n",
    "df1['promo2_since_year'] = df1.apply( lambda x: x['date'].year if math.isnan( x['promo2_since_year'] ) else x['promo2_since_year'], axis = 1 )"
   ]
  },
  {
   "cell_type": "code",
   "execution_count": 48,
   "id": "8529b5ef",
   "metadata": {
    "ExecuteTime": {
     "end_time": "2023-07-02T17:55:19.522712Z",
     "start_time": "2023-07-02T17:55:11.455102Z"
    }
   },
   "outputs": [],
   "source": [
    "month_map = { 1:'Jan', 2:'Feb', 3:'Mar', 4:'Apr', 5:'May', 6:'Jun', 7:'Jul', 8:'Aug', 9:'Sept', 10:'Oct', 11:'Nov', 12:'Dec' }\n",
    "\n",
    "df1['promo_interval'].fillna(0, inplace = True)\n",
    "\n",
    "df1['month_map'] = df1['date'].dt.month.map( month_map )\n",
    "df1['is_promo'] = df1[['promo_interval', 'month_map']].apply(lambda x: 0 if x['promo_interval'] == 0 else 1 if x['month_map'] in x['promo_interval'].split(',') else 0, axis = 1)"
   ]
  },
  {
   "cell_type": "code",
   "execution_count": 50,
   "id": "8f132f4c",
   "metadata": {
    "ExecuteTime": {
     "end_time": "2023-07-02T18:03:04.932477Z",
     "start_time": "2023-07-02T18:03:04.849420Z"
    }
   },
   "outputs": [
    {
     "data": {
      "text/html": [
       "<div>\n",
       "<style scoped>\n",
       "    .dataframe tbody tr th:only-of-type {\n",
       "        vertical-align: middle;\n",
       "    }\n",
       "\n",
       "    .dataframe tbody tr th {\n",
       "        vertical-align: top;\n",
       "    }\n",
       "\n",
       "    .dataframe thead th {\n",
       "        text-align: right;\n",
       "    }\n",
       "</style>\n",
       "<table border=\"1\" class=\"dataframe\">\n",
       "  <thead>\n",
       "    <tr style=\"text-align: right;\">\n",
       "      <th></th>\n",
       "      <th>223533</th>\n",
       "      <th>502600</th>\n",
       "      <th>395878</th>\n",
       "      <th>131663</th>\n",
       "      <th>54435</th>\n",
       "    </tr>\n",
       "  </thead>\n",
       "  <tbody>\n",
       "    <tr>\n",
       "      <th>store</th>\n",
       "      <td>534</td>\n",
       "      <td>521</td>\n",
       "      <td>658</td>\n",
       "      <td>94</td>\n",
       "      <td>916</td>\n",
       "    </tr>\n",
       "    <tr>\n",
       "      <th>day_of_week</th>\n",
       "      <td>1</td>\n",
       "      <td>1</td>\n",
       "      <td>1</td>\n",
       "      <td>6</td>\n",
       "      <td>6</td>\n",
       "    </tr>\n",
       "    <tr>\n",
       "      <th>date</th>\n",
       "      <td>2015-01-12 00:00:00</td>\n",
       "      <td>2014-04-07 00:00:00</td>\n",
       "      <td>2014-07-14 00:00:00</td>\n",
       "      <td>2015-04-04 00:00:00</td>\n",
       "      <td>2015-06-13 00:00:00</td>\n",
       "    </tr>\n",
       "    <tr>\n",
       "      <th>sales</th>\n",
       "      <td>10533</td>\n",
       "      <td>3859</td>\n",
       "      <td>8413</td>\n",
       "      <td>7486</td>\n",
       "      <td>5639</td>\n",
       "    </tr>\n",
       "    <tr>\n",
       "      <th>customers</th>\n",
       "      <td>700</td>\n",
       "      <td>391</td>\n",
       "      <td>698</td>\n",
       "      <td>736</td>\n",
       "      <td>713</td>\n",
       "    </tr>\n",
       "    <tr>\n",
       "      <th>open</th>\n",
       "      <td>1</td>\n",
       "      <td>1</td>\n",
       "      <td>1</td>\n",
       "      <td>1</td>\n",
       "      <td>1</td>\n",
       "    </tr>\n",
       "    <tr>\n",
       "      <th>promo</th>\n",
       "      <td>1</td>\n",
       "      <td>0</td>\n",
       "      <td>1</td>\n",
       "      <td>0</td>\n",
       "      <td>0</td>\n",
       "    </tr>\n",
       "    <tr>\n",
       "      <th>state_holiday</th>\n",
       "      <td>0</td>\n",
       "      <td>0</td>\n",
       "      <td>0</td>\n",
       "      <td>0</td>\n",
       "      <td>0</td>\n",
       "    </tr>\n",
       "    <tr>\n",
       "      <th>school_holiday</th>\n",
       "      <td>0</td>\n",
       "      <td>0</td>\n",
       "      <td>1</td>\n",
       "      <td>0</td>\n",
       "      <td>0</td>\n",
       "    </tr>\n",
       "    <tr>\n",
       "      <th>store_type</th>\n",
       "      <td>d</td>\n",
       "      <td>d</td>\n",
       "      <td>d</td>\n",
       "      <td>d</td>\n",
       "      <td>a</td>\n",
       "    </tr>\n",
       "    <tr>\n",
       "      <th>assortment</th>\n",
       "      <td>a</td>\n",
       "      <td>a</td>\n",
       "      <td>c</td>\n",
       "      <td>c</td>\n",
       "      <td>a</td>\n",
       "    </tr>\n",
       "    <tr>\n",
       "      <th>competition_distance</th>\n",
       "      <td>1200.0</td>\n",
       "      <td>18610.0</td>\n",
       "      <td>520.0</td>\n",
       "      <td>14620.0</td>\n",
       "      <td>90.0</td>\n",
       "    </tr>\n",
       "    <tr>\n",
       "      <th>competition_open_since_month</th>\n",
       "      <td>9.0</td>\n",
       "      <td>11.0</td>\n",
       "      <td>7.0</td>\n",
       "      <td>4.0</td>\n",
       "      <td>11.0</td>\n",
       "    </tr>\n",
       "    <tr>\n",
       "      <th>competition_open_since_year</th>\n",
       "      <td>2009.0</td>\n",
       "      <td>2002.0</td>\n",
       "      <td>2014.0</td>\n",
       "      <td>2015.0</td>\n",
       "      <td>2012.0</td>\n",
       "    </tr>\n",
       "    <tr>\n",
       "      <th>promo2</th>\n",
       "      <td>1</td>\n",
       "      <td>1</td>\n",
       "      <td>1</td>\n",
       "      <td>0</td>\n",
       "      <td>0</td>\n",
       "    </tr>\n",
       "    <tr>\n",
       "      <th>promo2_since_week</th>\n",
       "      <td>45.0</td>\n",
       "      <td>48.0</td>\n",
       "      <td>37.0</td>\n",
       "      <td>4.0</td>\n",
       "      <td>6.0</td>\n",
       "    </tr>\n",
       "    <tr>\n",
       "      <th>promo2_since_year</th>\n",
       "      <td>2009.0</td>\n",
       "      <td>2011.0</td>\n",
       "      <td>2009.0</td>\n",
       "      <td>2015.0</td>\n",
       "      <td>2015.0</td>\n",
       "    </tr>\n",
       "    <tr>\n",
       "      <th>promo_interval</th>\n",
       "      <td>Jan,Apr,Jul,Oct</td>\n",
       "      <td>Mar,Jun,Sept,Dec</td>\n",
       "      <td>Jan,Apr,Jul,Oct</td>\n",
       "      <td>0</td>\n",
       "      <td>0</td>\n",
       "    </tr>\n",
       "    <tr>\n",
       "      <th>month_map</th>\n",
       "      <td>Jan</td>\n",
       "      <td>Apr</td>\n",
       "      <td>Jul</td>\n",
       "      <td>Apr</td>\n",
       "      <td>Jun</td>\n",
       "    </tr>\n",
       "    <tr>\n",
       "      <th>is_promo</th>\n",
       "      <td>1</td>\n",
       "      <td>0</td>\n",
       "      <td>1</td>\n",
       "      <td>0</td>\n",
       "      <td>0</td>\n",
       "    </tr>\n",
       "  </tbody>\n",
       "</table>\n",
       "</div>"
      ],
      "text/plain": [
       "                                           223533               502600               395878               131663               54435 \n",
       "store                                         534                  521                  658                   94                  916\n",
       "day_of_week                                     1                    1                    1                    6                    6\n",
       "date                          2015-01-12 00:00:00  2014-04-07 00:00:00  2014-07-14 00:00:00  2015-04-04 00:00:00  2015-06-13 00:00:00\n",
       "sales                                       10533                 3859                 8413                 7486                 5639\n",
       "customers                                     700                  391                  698                  736                  713\n",
       "open                                            1                    1                    1                    1                    1\n",
       "promo                                           1                    0                    1                    0                    0\n",
       "state_holiday                                   0                    0                    0                    0                    0\n",
       "school_holiday                                  0                    0                    1                    0                    0\n",
       "store_type                                      d                    d                    d                    d                    a\n",
       "assortment                                      a                    a                    c                    c                    a\n",
       "competition_distance                       1200.0              18610.0                520.0              14620.0                 90.0\n",
       "competition_open_since_month                  9.0                 11.0                  7.0                  4.0                 11.0\n",
       "competition_open_since_year                2009.0               2002.0               2014.0               2015.0               2012.0\n",
       "promo2                                          1                    1                    1                    0                    0\n",
       "promo2_since_week                            45.0                 48.0                 37.0                  4.0                  6.0\n",
       "promo2_since_year                          2009.0               2011.0               2009.0               2015.0               2015.0\n",
       "promo_interval                    Jan,Apr,Jul,Oct     Mar,Jun,Sept,Dec      Jan,Apr,Jul,Oct                    0                    0\n",
       "month_map                                     Jan                  Apr                  Jul                  Apr                  Jun\n",
       "is_promo                                        1                    0                    1                    0                    0"
      ]
     },
     "execution_count": 50,
     "metadata": {},
     "output_type": "execute_result"
    }
   ],
   "source": [
    "df1.sample(5).T"
   ]
  },
  {
   "cell_type": "code",
   "execution_count": 51,
   "id": "711e7e1e",
   "metadata": {
    "ExecuteTime": {
     "end_time": "2023-07-02T18:03:18.997718Z",
     "start_time": "2023-07-02T18:03:18.791024Z"
    }
   },
   "outputs": [
    {
     "data": {
      "text/plain": [
       "store                           0\n",
       "day_of_week                     0\n",
       "date                            0\n",
       "sales                           0\n",
       "customers                       0\n",
       "open                            0\n",
       "promo                           0\n",
       "state_holiday                   0\n",
       "school_holiday                  0\n",
       "store_type                      0\n",
       "assortment                      0\n",
       "competition_distance            0\n",
       "competition_open_since_month    0\n",
       "competition_open_since_year     0\n",
       "promo2                          0\n",
       "promo2_since_week               0\n",
       "promo2_since_year               0\n",
       "promo_interval                  0\n",
       "month_map                       0\n",
       "is_promo                        0\n",
       "dtype: int64"
      ]
     },
     "execution_count": 51,
     "metadata": {},
     "output_type": "execute_result"
    }
   ],
   "source": [
    "df1.isna().sum()"
   ]
  },
  {
   "cell_type": "markdown",
   "id": "1c5a7077",
   "metadata": {},
   "source": [
    "## 1.6 Change Types"
   ]
  },
  {
   "cell_type": "code",
   "execution_count": 52,
   "id": "1c6d383b",
   "metadata": {
    "ExecuteTime": {
     "end_time": "2023-07-02T18:04:04.967225Z",
     "start_time": "2023-07-02T18:04:04.957605Z"
    }
   },
   "outputs": [
    {
     "data": {
      "text/plain": [
       "store                                    int64\n",
       "day_of_week                              int64\n",
       "date                            datetime64[ns]\n",
       "sales                                    int64\n",
       "customers                                int64\n",
       "open                                     int64\n",
       "promo                                    int64\n",
       "state_holiday                           object\n",
       "school_holiday                           int64\n",
       "store_type                              object\n",
       "assortment                              object\n",
       "competition_distance                   float64\n",
       "competition_open_since_month           float64\n",
       "competition_open_since_year            float64\n",
       "promo2                                   int64\n",
       "promo2_since_week                      float64\n",
       "promo2_since_year                      float64\n",
       "promo_interval                          object\n",
       "month_map                               object\n",
       "is_promo                                 int64\n",
       "dtype: object"
      ]
     },
     "execution_count": 52,
     "metadata": {},
     "output_type": "execute_result"
    }
   ],
   "source": [
    "df1.dtypes"
   ]
  },
  {
   "cell_type": "code",
   "execution_count": 53,
   "id": "64c6bbb4",
   "metadata": {
    "ExecuteTime": {
     "end_time": "2023-07-02T18:04:14.542322Z",
     "start_time": "2023-07-02T18:04:14.499239Z"
    }
   },
   "outputs": [],
   "source": [
    "df1['competition_open_since_month'] = df1['competition_open_since_month'].astype(int)\n",
    "df1['competition_open_since_year'] = df1['competition_open_since_year'].astype(int)\n",
    "\n",
    "df1['promo2_since_week'] = df1['promo2_since_week'].astype(int)\n",
    "df1['promo2_since_year'] = df1['promo2_since_year'].astype(int)"
   ]
  },
  {
   "cell_type": "code",
   "execution_count": 54,
   "id": "a1404342",
   "metadata": {
    "ExecuteTime": {
     "end_time": "2023-07-02T18:04:21.732979Z",
     "start_time": "2023-07-02T18:04:21.712658Z"
    }
   },
   "outputs": [
    {
     "data": {
      "text/plain": [
       "store                                    int64\n",
       "day_of_week                              int64\n",
       "date                            datetime64[ns]\n",
       "sales                                    int64\n",
       "customers                                int64\n",
       "open                                     int64\n",
       "promo                                    int64\n",
       "state_holiday                           object\n",
       "school_holiday                           int64\n",
       "store_type                              object\n",
       "assortment                              object\n",
       "competition_distance                   float64\n",
       "competition_open_since_month             int64\n",
       "competition_open_since_year              int64\n",
       "promo2                                   int64\n",
       "promo2_since_week                        int64\n",
       "promo2_since_year                        int64\n",
       "promo_interval                          object\n",
       "month_map                               object\n",
       "is_promo                                 int64\n",
       "dtype: object"
      ]
     },
     "execution_count": 54,
     "metadata": {},
     "output_type": "execute_result"
    }
   ],
   "source": [
    "df1.dtypes"
   ]
  },
  {
   "cell_type": "markdown",
   "id": "3611d919",
   "metadata": {},
   "source": [
    "## 1.7 Descriptive Statistical\n"
   ]
  },
  {
   "cell_type": "markdown",
   "id": "dcd0183e",
   "metadata": {},
   "source": [
    "Em andamento"
   ]
  },
  {
   "cell_type": "code",
   "execution_count": null,
   "id": "f2ff7213",
   "metadata": {},
   "outputs": [],
   "source": []
  }
 ],
 "metadata": {
  "kernelspec": {
   "display_name": "Python 3 (ipykernel)",
   "language": "python",
   "name": "python3"
  },
  "language_info": {
   "codemirror_mode": {
    "name": "ipython",
    "version": 3
   },
   "file_extension": ".py",
   "mimetype": "text/x-python",
   "name": "python",
   "nbconvert_exporter": "python",
   "pygments_lexer": "ipython3",
   "version": "3.10.6"
  }
 },
 "nbformat": 4,
 "nbformat_minor": 5
}
