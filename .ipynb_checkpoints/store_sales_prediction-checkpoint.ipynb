{
 "cells": [
  {
   "cell_type": "markdown",
   "id": "1b111cdf",
   "metadata": {
    "heading_collapsed": true
   },
   "source": [
    "# 0.0 Configuration and Data Loading"
   ]
  },
  {
   "cell_type": "markdown",
   "id": "41d42cb8",
   "metadata": {
    "hidden": true
   },
   "source": [
    "## 0.1 Imports"
   ]
  },
  {
   "cell_type": "code",
   "execution_count": 18,
   "id": "8d46161a",
   "metadata": {
    "ExecuteTime": {
     "end_time": "2023-06-27T20:09:08.072323Z",
     "start_time": "2023-06-27T20:09:08.067594Z"
    },
    "hidden": true
   },
   "outputs": [],
   "source": [
    "import pandas as pd\n",
    "import math\n",
    "import inflection\n",
    "import numpy as np\n",
    "import seaborn as sns\n",
    "import datetime"
   ]
  },
  {
   "cell_type": "markdown",
   "id": "4e41bf05",
   "metadata": {
    "hidden": true
   },
   "source": [
    "## 0.2 Helper Functions"
   ]
  },
  {
   "cell_type": "code",
   "execution_count": 19,
   "id": "8379ac8c",
   "metadata": {
    "ExecuteTime": {
     "end_time": "2023-06-27T20:09:08.085286Z",
     "start_time": "2023-06-27T20:09:08.076418Z"
    },
    "hidden": true
   },
   "outputs": [],
   "source": [
    "def jupyter_settings():\n",
    "    \n",
    "    %matplotlib inline\n",
    "    \n",
    "    plt.style.use( 'bmh' )\n",
    "    plt.rcParams['figure.figsize'] = [25, 12]\n",
    "    plt.rcParams['font.size'] = 24\n",
    "    display( HTML( '<style>.container { width:100% !important; }</style>') )\n",
    "    pd.options.display.max_columns = None\n",
    "    pd.options.display.max_rows = None\n",
    "    pd.set_option( 'display.expand_frame_repr', False )\n",
    "    sns.set()"
   ]
  },
  {
   "cell_type": "code",
   "execution_count": 20,
   "id": "283007b9",
   "metadata": {
    "ExecuteTime": {
     "end_time": "2023-06-27T20:09:08.095190Z",
     "start_time": "2023-06-27T20:09:08.087751Z"
    },
    "hidden": true
   },
   "outputs": [],
   "source": [
    "jupyter_settings()"
   ]
  },
  {
   "cell_type": "markdown",
   "id": "7561fc4f",
   "metadata": {
    "hidden": true
   },
   "source": [
    "## 0.3 Loading Data"
   ]
  },
  {
   "cell_type": "code",
   "execution_count": 26,
   "id": "7a75aa76",
   "metadata": {
    "ExecuteTime": {
     "end_time": "2023-06-27T20:09:20.383860Z",
     "start_time": "2023-06-27T20:09:19.754834Z"
    },
    "hidden": true
   },
   "outputs": [],
   "source": [
    "df_sales_raw = pd.read_csv( 'data/train.csv', low_memory = False )\n",
    "df_store_raw = pd.read_csv( 'data/store.csv', low_memory = False )\n",
    "\n",
    "df_raw = pd.merge(df_sales_raw, df_store_raw, 'left', 'Store')"
   ]
  },
  {
   "cell_type": "markdown",
   "id": "775ecc14",
   "metadata": {},
   "source": [
    "# 1.0 Data Description"
   ]
  },
  {
   "cell_type": "markdown",
   "id": "e40d0fa9",
   "metadata": {},
   "source": [
    "## 1.1 Rename Columns"
   ]
  },
  {
   "cell_type": "code",
   "execution_count": 27,
   "id": "ef7ad380",
   "metadata": {
    "ExecuteTime": {
     "end_time": "2023-06-27T20:09:20.751027Z",
     "start_time": "2023-06-27T20:09:20.736912Z"
    }
   },
   "outputs": [],
   "source": [
    "df1.columns"
   ]
  },
  {
   "cell_type": "code",
   "execution_count": 23,
   "id": "d8516116",
   "metadata": {
    "ExecuteTime": {
     "end_time": "2023-06-27T20:09:09.022338Z",
     "start_time": "2023-06-27T20:09:08.837372Z"
    }
   },
   "outputs": [],
   "source": [
    "df1 = df_raw.copy()"
   ]
  },
  {
   "cell_type": "code",
   "execution_count": 24,
   "id": "964d9404",
   "metadata": {
    "ExecuteTime": {
     "end_time": "2023-06-27T20:09:09.029050Z",
     "start_time": "2023-06-27T20:09:09.023994Z"
    }
   },
   "outputs": [],
   "source": [
    "old_cols = ['Store', 'DayOfWeek', 'Date', 'Sales', 'Customers', 'Open', 'Promo', 'StateHoliday', 'SchoolHoliday', \n",
    "            'StoreType', 'Assortment', 'CompetitionDistance', 'CompetitionOpenSinceMonth',\n",
    "            'CompetitionOpenSinceYear', 'Promo2', 'Promo2SinceWeek', 'Promo2SinceYear', 'PromoInterval']\n",
    "\n",
    "snakecase = lambda x: inflection.underscore( x )\n",
    "\n",
    "new_cols = list( map( snakecase, old_cols ) )"
   ]
  },
  {
   "cell_type": "code",
   "execution_count": 25,
   "id": "1d86c015",
   "metadata": {
    "ExecuteTime": {
     "end_time": "2023-06-27T20:09:09.036636Z",
     "start_time": "2023-06-27T20:09:09.031377Z"
    }
   },
   "outputs": [],
   "source": [
    "df1.columns = new_cols"
   ]
  },
  {
   "cell_type": "markdown",
   "id": "65b4c8f5",
   "metadata": {},
   "source": [
    "## 1.2 Data Dimentions"
   ]
  },
  {
   "cell_type": "code",
   "execution_count": 28,
   "id": "e2370507",
   "metadata": {
    "ExecuteTime": {
     "end_time": "2023-06-27T20:10:24.195808Z",
     "start_time": "2023-06-27T20:10:24.192152Z"
    }
   },
   "outputs": [],
   "source": [
    "print( 'Name of rows: {}'.format( df1.shape[0] ) )\n",
    "print( 'Name of cols: {}'.format( df1.shape[1] ) )"
   ]
  },
  {
   "cell_type": "markdown",
   "id": "952f8a05",
   "metadata": {},
   "source": [
    "## 1.3 Data Types"
   ]
  },
  {
   "cell_type": "code",
   "execution_count": 29,
   "id": "01b00cd9",
   "metadata": {
    "ExecuteTime": {
     "end_time": "2023-06-27T20:11:19.275779Z",
     "start_time": "2023-06-27T20:11:19.184591Z"
    }
   },
   "outputs": [],
   "source": [
    "df1['date'] = pd.to_datetime( df1['date'] )\n",
    "df1.dtypes"
   ]
  },
  {
   "cell_type": "markdown",
   "id": "2a55194c",
   "metadata": {},
   "source": [
    "## 1.4 Check NA"
   ]
  },
  {
   "cell_type": "code",
   "execution_count": 30,
   "id": "b1c55dae",
   "metadata": {
    "ExecuteTime": {
     "end_time": "2023-06-27T20:12:00.146302Z",
     "start_time": "2023-06-27T20:11:59.988174Z"
    }
   },
   "outputs": [],
   "source": [
    "df1.isna().sum()"
   ]
  },
  {
   "cell_type": "code",
   "execution_count": null,
   "id": "d0a0ed8a",
   "metadata": {},
   "outputs": [],
   "source": []
  }
 ],
 "metadata": {
  "kernelspec": {
   "display_name": "Python 3 (ipykernel)",
   "language": "python",
   "name": "python3"
  },
  "language_info": {
   "codemirror_mode": {
    "name": "ipython",
    "version": 3
   },
   "file_extension": ".py",
   "mimetype": "text/x-python",
   "name": "python",
   "nbconvert_exporter": "python",
   "pygments_lexer": "ipython3",
   "version": "3.10.6"
  }
 },
 "nbformat": 4,
 "nbformat_minor": 5
}
